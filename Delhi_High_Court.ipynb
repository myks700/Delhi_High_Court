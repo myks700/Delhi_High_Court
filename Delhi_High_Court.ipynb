{
 "cells": [
  {
   "cell_type": "code",
   "execution_count": 56,
   "id": "4e1ac800-b6e8-4123-baee-7d37c010e5f6",
   "metadata": {},
   "outputs": [
    {
     "name": "stderr",
     "output_type": "stream",
     "text": [
      "C:\\Users\\DATAMI~1\\AppData\\Local\\Temp/ipykernel_9920/3968160024.py:10: DeprecationWarning: executable_path has been deprecated, please pass in a Service object\n",
      "  driver = webdriver.Chrome(PATH)\n",
      "C:\\Users\\DATAMI~1\\AppData\\Local\\Temp/ipykernel_9920/3968160024.py:14: DeprecationWarning: find_element_by_* commands are deprecated. Please use find_element() instead\n",
      "  element = driver.find_element_by_xpath(\"/html/body/div[1]/div/article/aside[1]/nav/ul/li[9]/a\")\n",
      "C:\\Users\\DATAMI~1\\AppData\\Local\\Temp/ipykernel_9920/3968160024.py:17: DeprecationWarning: find_element_by_* commands are deprecated. Please use find_element() instead\n",
      "  select = Select(driver.find_element_by_name(\"cyear\"))\n"
     ]
    }
   ],
   "source": [
    "from selenium import webdriver\n",
    "from selenium.webdriver.common.keys import Keys\n",
    "import pandas as pd\n",
    "import requests\n",
    "from bs4 import BeautifulSoup\n",
    "from selenium.webdriver.support.ui import WebDriverWait, Select\n",
    "\n",
    "url = 'https://delhihighcourt.nic.in/'\n",
    "PATH = \"chromedriver.exe\";\n",
    "driver = webdriver.Chrome(PATH)\n",
    "driver.get(url)\n",
    "#button = driver.find_element_by_id('idofbutton')\n",
    "\n",
    "element = driver.find_element_by_xpath(\"/html/body/div[1]/div/article/aside[1]/nav/ul/li[9]/a\")\n",
    "element.click()\n",
    "\n",
    "select = Select(driver.find_element_by_name(\"cyear\"))\n",
    "#select.select_by_visible_text(to_year)\n",
    "select.select_by_visible_text('2021')"
   ]
  },
  {
   "cell_type": "code",
   "execution_count": null,
   "id": "12827492-f27f-42e7-a1b2-ccd7cffdaa49",
   "metadata": {},
   "outputs": [],
   "source": []
  },
  {
   "cell_type": "code",
   "execution_count": 55,
   "id": "436f9942-c9ab-4d6f-9f7b-6489587424c5",
   "metadata": {},
   "outputs": [],
   "source": [
    "\n",
    "\n",
    "#search_field_xpath = \"/html/body/div[1]/div/article/div/div[2]/form[1]/input[2]\"\n",
    "\n",
    "#element_search_field = browser.find_element_by_xpath(search_field_xpath)"
   ]
  },
  {
   "cell_type": "code",
   "execution_count": null,
   "id": "8e4df406-9b72-4ac4-b527-196aef4d33d4",
   "metadata": {},
   "outputs": [],
   "source": []
  },
  {
   "cell_type": "code",
   "execution_count": null,
   "id": "e9a04baf-49a1-4880-b7b9-4b34701b3d68",
   "metadata": {},
   "outputs": [],
   "source": []
  },
  {
   "cell_type": "code",
   "execution_count": null,
   "id": "748a7eb8-0486-44da-9b92-6cdca565aa75",
   "metadata": {},
   "outputs": [],
   "source": []
  },
  {
   "cell_type": "code",
   "execution_count": 15,
   "id": "a396db54-1ca1-48ed-b678-992b10dcc63e",
   "metadata": {},
   "outputs": [],
   "source": []
  },
  {
   "cell_type": "code",
   "execution_count": null,
   "id": "d80ccf46-5856-4b11-b69f-8f7e11f1e8e8",
   "metadata": {},
   "outputs": [],
   "source": []
  },
  {
   "cell_type": "code",
   "execution_count": null,
   "id": "faa94eb7-8f16-4620-b9db-77ae2d02f9f6",
   "metadata": {},
   "outputs": [],
   "source": []
  },
  {
   "cell_type": "code",
   "execution_count": null,
   "id": "4c6cbab3-d68d-4113-b6e2-3b1a5e919105",
   "metadata": {},
   "outputs": [],
   "source": []
  }
 ],
 "metadata": {
  "kernelspec": {
   "display_name": "Python 3 (ipykernel)",
   "language": "python",
   "name": "python3"
  },
  "language_info": {
   "codemirror_mode": {
    "name": "ipython",
    "version": 3
   },
   "file_extension": ".py",
   "mimetype": "text/x-python",
   "name": "python",
   "nbconvert_exporter": "python",
   "pygments_lexer": "ipython3",
   "version": "3.9.7"
  }
 },
 "nbformat": 4,
 "nbformat_minor": 5
}
